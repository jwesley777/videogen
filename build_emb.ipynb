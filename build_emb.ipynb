{
 "cells": [
  {
   "cell_type": "code",
   "execution_count": null,
   "id": "adccc4ce",
   "metadata": {},
   "outputs": [],
   "source": [
    "%%time\n",
    "# save embeddings\n",
    "from clip_embedder import ClipEmbedder\n",
    "\n",
    "embedder = ClipEmbedder()\n",
    "device = 'cpu'\n",
    "\n",
    "import torch\n",
    "\n",
    "def get_img_emb(model, img_path):\n",
    "    image = model.preprocess(Image.open(img_path)).unsqueeze(0).to(device)\n",
    "    with torch.no_grad():\n",
    "        image_features = model.predictor.encode_image(image)\n",
    "    return image_features\n",
    "\n",
    "for fname in tqdm(glob.glob('frames/*.jpg')):\n",
    "    fname_w_o_extension = fname[:-4]\n",
    "    image_features = get_img_emb(embedder, fname)\n",
    "    np.save(f\"frame_vectors/{fname_w_o_extension}.npy\", image_features.detach().numpy(), allow_pickle=False)"
   ]
  }
 ],
 "metadata": {
  "kernelspec": {
   "display_name": "Python 3 (ipykernel)",
   "language": "python",
   "name": "python3"
  },
  "language_info": {
   "codemirror_mode": {
    "name": "ipython",
    "version": 3
   },
   "file_extension": ".py",
   "mimetype": "text/x-python",
   "name": "python",
   "nbconvert_exporter": "python",
   "pygments_lexer": "ipython3",
   "version": "3.10.6"
  }
 },
 "nbformat": 4,
 "nbformat_minor": 5
}
