{
 "cells": [
  {
   "cell_type": "code",
   "execution_count": 9,
   "id": "448c60d9",
   "metadata": {},
   "outputs": [
    {
     "data": {
      "text/plain": [
       "{'OHUsPiXfcfM': 'downloaded/OHUsPiXfcfM.mp4',\n",
       " 'vRXZj0DzXIA': 'downloaded/vRXZj0DzXIA.mp4',\n",
       " 'RIPPel2umHU': 'downloaded/RIPPel2umHU.mp4',\n",
       " 'S1eebleLWeE': 'downloaded/S1eebleLWeE.mp4',\n",
       " 'o-G3yhkaIqA': 'downloaded/o-G3yhkaIqA.mp4',\n",
       " 'urtFrxDUV6c': 'downloaded/urtFrxDUV6c.mp4',\n",
       " '65fN_OUawjk': 'downloaded/65fN_OUawjk.mp4',\n",
       " 'uocETPj4Jx4': 'downloaded/uocETPj4Jx4.mp4',\n",
       " 'viM_c-Fc7sc': 'downloaded/viM_c-Fc7sc.mp4',\n",
       " '_spuxXnul0U': 'downloaded/_spuxXnul0U.mp4',\n",
       " 'g1-sFn-j5D0': 'downloaded/g1-sFn-j5D0.mp4',\n",
       " 'lPi7cQGNqcM': 'downloaded/lPi7cQGNqcM.mp4',\n",
       " 'j_kSFTA4kMM': 'downloaded/j_kSFTA4kMM.mp4',\n",
       " 'ibqiet6Bg38': 'downloaded/ibqiet6Bg38.mp4',\n",
       " '1me1Q8n8Y0Q': 'downloaded/1me1Q8n8Y0Q.mp4',\n",
       " 'pif9pBoUzfI': 'downloaded/pif9pBoUzfI.mp4',\n",
       " 'rgFqmmgWGZQ': 'downloaded/rgFqmmgWGZQ.mp4',\n",
       " 'hS2x1zl4rn0': 'downloaded/hS2x1zl4rn0.mp4',\n",
       " 'svspx0M8Qvg': 'downloaded/svspx0M8Qvg.mp4',\n",
       " 'vQxLsv6zehE': 'downloaded/vQxLsv6zehE.mp4',\n",
       " '2isYuQZMbdU': 'downloaded/2isYuQZMbdU.mp4',\n",
       " 'MDM027J_gM0': 'downloaded/MDM027J_gM0.mp4',\n",
       " 'LnlKwzc_TNA': 'downloaded/LnlKwzc_TNA.mp4',\n",
       " 'HwoyV6zaPu0': 'downloaded/HwoyV6zaPu0.mp4',\n",
       " '2sbalGeXVeE': 'downloaded/2sbalGeXVeE.mp4',\n",
       " 'cV2gBU6hKfY': 'downloaded/cV2gBU6hKfY.mp4',\n",
       " 'vyyaend0Su8': 'downloaded/vyyaend0Su8.mp4',\n",
       " 'CKZvWhCqx1s': 'downloaded/CKZvWhCqx1s.mp4',\n",
       " 'gFYAXsa7pe8': 'downloaded/gFYAXsa7pe8.mp4',\n",
       " 'NaCF3Ip0X0Y': 'downloaded/NaCF3Ip0X0Y.mp4',\n",
       " 'Ks4u0Lka-kI': 'downloaded/Ks4u0Lka-kI.mp4',\n",
       " 'd3I34a_rJ-U': 'downloaded/d3I34a_rJ-U.mp4',\n",
       " 'Fc7-Oe0tj5k': 'downloaded/Fc7-Oe0tj5k.mp4',\n",
       " 'wWdX6Kp_p0Y': 'downloaded/wWdX6Kp_p0Y.mp4',\n",
       " 'aK_9VTqhqIU': 'downloaded/aK_9VTqhqIU.mp4',\n",
       " 'mdzmpGUC0i0': 'downloaded/mdzmpGUC0i0.mp4',\n",
       " 'XJDPzNzQ3RE': 'downloaded/XJDPzNzQ3RE.mp4',\n",
       " 'AlsezGKQ0rk': 'downloaded/AlsezGKQ0rk.mp4',\n",
       " 'O4-Ta0VQeOA': 'downloaded/O4-Ta0VQeOA.mp4',\n",
       " 'jjFSRDUvETQ': 'downloaded/jjFSRDUvETQ.mp4',\n",
       " 'x9TQ6culXIA': 'downloaded/x9TQ6culXIA.mp4',\n",
       " 'YxksUfnuEbI': 'downloaded/YxksUfnuEbI.mp4',\n",
       " 'yaCyUYzctHY': 'downloaded/yaCyUYzctHY.mp4',\n",
       " 'cOKCrLpvOgg': 'downloaded/cOKCrLpvOgg.mp4',\n",
       " 'MG8temyUoUk': 'downloaded/MG8temyUoUk.mp4',\n",
       " 'RRhjdYsNwAk': 'downloaded/RRhjdYsNwAk.mp4',\n",
       " 'ssq6X6alZ3w': 'downloaded/ssq6X6alZ3w.mp4',\n",
       " 'e_Z6upbeYuc': 'downloaded/e_Z6upbeYuc.mp4',\n",
       " 'q92DWs1MwRA': 'downloaded/q92DWs1MwRA.mp4',\n",
       " 'acMC7bTVcY8': 'downloaded/acMC7bTVcY8.mp4',\n",
       " 'UUOGVgComrU': 'downloaded/UUOGVgComrU.mp4',\n",
       " 'psZ1g9fMfeo': 'downloaded/psZ1g9fMfeo.mp4',\n",
       " 'gCaYwPluIYA': 'downloaded/gCaYwPluIYA.mp4',\n",
       " 'pyIx75oLqE0': 'downloaded/pyIx75oLqE0.mp4',\n",
       " 'uRoqEPQ2L0k': 'downloaded/uRoqEPQ2L0k.mp4',\n",
       " 'kpnwRg268FQ': 'downloaded/kpnwRg268FQ.mp4',\n",
       " 'ltS2imUTJzo': 'downloaded/ltS2imUTJzo.mp4',\n",
       " 'yXErLiSbxXQ': 'downloaded/yXErLiSbxXQ.mp4',\n",
       " 'JjyZ3Gnim58': 'downloaded/JjyZ3Gnim58.mp4',\n",
       " 'dlKk5Fx9czQ': 'downloaded/dlKk5Fx9czQ.mp4',\n",
       " 'J8fQMq4T8Yg': 'downloaded/J8fQMq4T8Yg.mp4',\n",
       " 'iYSyRL8J8OA': 'downloaded/iYSyRL8J8OA.mp4',\n",
       " 'o2BasAvMglo': 'downloaded/o2BasAvMglo.mp4',\n",
       " 'BflFNMl_UWY': 'downloaded/BflFNMl_UWY.mp4',\n",
       " '0ofRcho4shM': 'downloaded/0ofRcho4shM.mp4',\n",
       " 'G7ONrDab6cU': 'downloaded/G7ONrDab6cU.mp4',\n",
       " 'SrvUMNGgWP0': 'downloaded/SrvUMNGgWP0.mp4',\n",
       " 'CoLspajPTSY': 'downloaded/CoLspajPTSY.mp4',\n",
       " 'rqVPhi0oTVU': 'downloaded/rqVPhi0oTVU.mp4',\n",
       " 'Un7choIyl_g': 'downloaded/Un7choIyl_g.mp4',\n",
       " 'jeI992mvlEY': 'downloaded/jeI992mvlEY.mp4',\n",
       " 'A5H8zBb3iao': 'downloaded/A5H8zBb3iao.mp4',\n",
       " 'OvioeS1ZZ7o': 'downloaded/OvioeS1ZZ7o.mp4',\n",
       " 'Fwg9-MXdBYA': 'downloaded/Fwg9-MXdBYA.mp4',\n",
       " 'TBJVvyMBDdk': 'downloaded/TBJVvyMBDdk.mp4',\n",
       " '3jS_yEK8qVI': 'downloaded/3jS_yEK8qVI.mp4',\n",
       " 'QbJJwaVdgIs': 'downloaded/QbJJwaVdgIs.mp4',\n",
       " 'kIbjHtE4fd8': 'downloaded/kIbjHtE4fd8.mp4',\n",
       " 'BQ20_V0AgE4': 'downloaded/BQ20_V0AgE4.mp4',\n",
       " '_hFarg-Obuc': 'downloaded/_hFarg-Obuc.mp4',\n",
       " '1t0iJ7F_k9Q': 'downloaded/1t0iJ7F_k9Q.mp4',\n",
       " 'jV1v2Cy1w30': 'downloaded/jV1v2Cy1w30.mp4',\n",
       " 'ZM5xPieY7X8': 'downloaded/ZM5xPieY7X8.mp4',\n",
       " 'idcJbsGekhw': 'downloaded/idcJbsGekhw.mp4',\n",
       " 'iQvps6-NAmY': 'downloaded/iQvps6-NAmY.mp4',\n",
       " '3CxtK7-XtE0': 'downloaded/3CxtK7-XtE0.mp4',\n",
       " 'JEZcdVCNhu0': 'downloaded/JEZcdVCNhu0.mp4',\n",
       " 'NZlClr_ivb4': 'downloaded/NZlClr_ivb4.mp4',\n",
       " 'jdMNoQE3mIQ': 'downloaded/jdMNoQE3mIQ.mp4',\n",
       " 'pYfm-2SkYeU': 'downloaded/pYfm-2SkYeU.mp4',\n",
       " 'RUQl6YcMalg': 'downloaded/RUQl6YcMalg.mp4',\n",
       " 'SZQhgExjBvQ': 'downloaded/SZQhgExjBvQ.mp4',\n",
       " '8Y07dhrgEh8': 'downloaded/8Y07dhrgEh8.mp4',\n",
       " '2rcKpY-4QBI': 'downloaded/2rcKpY-4QBI.mp4',\n",
       " 'vaIgyRoUkQI': 'downloaded/vaIgyRoUkQI.mp4',\n",
       " 'LRWpLcqpkCg': 'downloaded/LRWpLcqpkCg.mp4',\n",
       " '70RmF0rPj9o': 'downloaded/70RmF0rPj9o.mp4',\n",
       " '4VSx2E7WE50': 'downloaded/4VSx2E7WE50.mp4',\n",
       " 'ecjNEItIxDI': 'downloaded/ecjNEItIxDI.mp4',\n",
       " 'KNPf9t8mKKY': 'downloaded/KNPf9t8mKKY.mp4',\n",
       " '4M5jGbVfItE': 'downloaded/4M5jGbVfItE.mp4',\n",
       " '60g72d4Nqss': 'downloaded/60g72d4Nqss.mp4',\n",
       " 'x6d3wUHalPU': 'downloaded/x6d3wUHalPU.mp4',\n",
       " '_93yUnhBtzs': 'downloaded/_93yUnhBtzs.mp4',\n",
       " 'gyqx8i40dkU': 'downloaded/gyqx8i40dkU.mp4',\n",
       " 'QX5_5HhnhUk': 'downloaded/QX5_5HhnhUk.mp4',\n",
       " 'InhZS6SiAbM': 'downloaded/InhZS6SiAbM.mp4',\n",
       " '5Fg9oZk-5uA': 'downloaded/5Fg9oZk-5uA.mp4',\n",
       " 'n5ccGu0C6Xc': 'downloaded/n5ccGu0C6Xc.mp4',\n",
       " 'WBne1JaH0nI': 'downloaded/WBne1JaH0nI.mp4',\n",
       " 'smhi6jts97I': 'downloaded/smhi6jts97I.mp4',\n",
       " 'xIzBCXEdmEo': 'downloaded/xIzBCXEdmEo.mp4',\n",
       " 'V3pXO0IGMYQ': 'downloaded/V3pXO0IGMYQ.mp4',\n",
       " 'rfO5lel2jEY': 'downloaded/rfO5lel2jEY.mp4',\n",
       " 'UZzHnuvI8mI': 'downloaded/UZzHnuvI8mI.mp4',\n",
       " 'kcUUUBdzsIw': 'downloaded/kcUUUBdzsIw.mp4',\n",
       " 'uUi5DQvPSRE': 'downloaded/uUi5DQvPSRE.mp4',\n",
       " '27h9SJcIdM0': 'downloaded/27h9SJcIdM0.mp4',\n",
       " '6318pLyv12E': 'downloaded/6318pLyv12E.mp4',\n",
       " 'HO7CRp44s10': 'downloaded/HO7CRp44s10.mp4',\n",
       " 'aiHxaLvfxCI': 'downloaded/aiHxaLvfxCI.mp4',\n",
       " 'ktyJIj6i4Qw': 'downloaded/ktyJIj6i4Qw.mp4',\n",
       " 'o3Zv_Hp3xVI': 'downloaded/o3Zv_Hp3xVI.mp4',\n",
       " 'lRCbU-IXny4': 'downloaded/lRCbU-IXny4.mp4',\n",
       " 'iogcY_4xGjo': 'downloaded/iogcY_4xGjo.mp4',\n",
       " 'yivaVZNSWrM': 'downloaded/yivaVZNSWrM.mp4',\n",
       " '.ipynb_checkpoints': 'downloaded/.ipynb_checkpoints',\n",
       " '6eFhEtE47ig': 'downloaded/6eFhEtE47ig.mp4',\n",
       " '05ULE11i3Wg': 'downloaded/05ULE11i3Wg.mp4',\n",
       " 'vFWv44Z4Jhk': 'downloaded/vFWv44Z4Jhk.mp4',\n",
       " 'VEkj2sanAeU': 'downloaded/VEkj2sanAeU.mp4',\n",
       " 'O84fLDIU-T0': 'downloaded/O84fLDIU-T0.mp4',\n",
       " 'JFm7YDVlqnI': 'downloaded/JFm7YDVlqnI.mp4',\n",
       " 'wog1R1d4zls': 'downloaded/wog1R1d4zls.mp4',\n",
       " 'x1E_uYneqhc': 'downloaded/x1E_uYneqhc.mp4',\n",
       " '00NgUctWoLQ': 'downloaded/00NgUctWoLQ.mp4',\n",
       " 'FuotgfvwfWg': 'downloaded/FuotgfvwfWg.mp4',\n",
       " 'Hwybp38GnZw': 'downloaded/Hwybp38GnZw.mp4',\n",
       " 'RghsgkZKedg': 'downloaded/RghsgkZKedg.mp4',\n",
       " '9rhadTURsrw': 'downloaded/9rhadTURsrw.mp4',\n",
       " 'KsH_V0D4PyA': 'downloaded/KsH_V0D4PyA.mp4',\n",
       " 'hXCHPseyi2A': 'downloaded/hXCHPseyi2A.mp4',\n",
       " 'koMafhX61tU': 'downloaded/koMafhX61tU.mp4',\n",
       " 'gdsUKphmB3Y': 'downloaded/gdsUKphmB3Y.mp4',\n",
       " 'QhRM-X9kqFs': 'downloaded/QhRM-X9kqFs.mp4',\n",
       " 'aRNN-OQsDZ8': 'downloaded/aRNN-OQsDZ8.mp4',\n",
       " 'GXzkbeKrbkc': 'downloaded/GXzkbeKrbkc.mp4',\n",
       " '0Oxqu8UWFYA': 'downloaded/0Oxqu8UWFYA.mp4',\n",
       " '9sJ_I1lHpps': 'downloaded/9sJ_I1lHpps.mp4',\n",
       " 'dYiyONyoW50': 'downloaded/dYiyONyoW50.mp4',\n",
       " 's3cJxUop66E': 'downloaded/s3cJxUop66E.mp4'}"
      ]
     },
     "execution_count": 9,
     "metadata": {},
     "output_type": "execute_result"
    }
   ],
   "source": [
    "import os\n",
    "from IPython.display import Video\n",
    "\n",
    "input_dir = 'downloaded'\n",
    "files = os.listdir(input_dir)\n",
    "params = {file.replace(\".mp4\", \"\"): f'{input_dir}/{file}' for file in files}\n",
    "params"
   ]
  },
  {
   "cell_type": "code",
   "execution_count": 10,
   "id": "974564d8",
   "metadata": {},
   "outputs": [
    {
     "name": "stdout",
     "output_type": "stream",
     "text": [
      "name: OHUsPiXfcfM\n",
      "name: OHUsPiXfcfM\n",
      "name: RRhjdYsNwAk\n",
      "name: RRhjdYsNwAk\n",
      "Moviepy - Building video output/dsl_example.mp4.\n",
      "MoviePy - Writing audio in temp-audio.m4a\n"
     ]
    },
    {
     "name": "stderr",
     "output_type": "stream",
     "text": [
      "                                                                                                                                                                                                                                              \r"
     ]
    },
    {
     "name": "stdout",
     "output_type": "stream",
     "text": [
      "MoviePy - Done.\n",
      "Moviepy - Writing video output/dsl_example.mp4\n",
      "\n"
     ]
    },
    {
     "name": "stderr",
     "output_type": "stream",
     "text": [
      "                                                                                                                                                                                                                                              \r"
     ]
    },
    {
     "name": "stdout",
     "output_type": "stream",
     "text": [
      "Moviepy - Done !\n",
      "Moviepy - video ready output/dsl_example.mp4\n"
     ]
    }
   ],
   "source": [
    "from movie_dsl import MovDSL\n",
    "\n",
    "query = '''\n",
    "OHUsPiXfcfM[0:5].v * OHUsPiXfcfM[0:5].a + RRhjdYsNwAk[5:10].v * RRhjdYsNwAk[5:10].a\n",
    "'''\n",
    "output_path = 'output/dsl_example.mp4'\n",
    "\n",
    "dsl = MovDSL(params) \\\n",
    "    .query(query) \\\n",
    "    .save(output_path)"
   ]
  },
  {
   "cell_type": "code",
   "execution_count": 11,
   "id": "7dfb8db0",
   "metadata": {},
   "outputs": [
    {
     "data": {
      "text/html": [
       "<video src=\"output/dsl_example.mp4\" controls  >\n",
       "      Your browser does not support the <code>video</code> element.\n",
       "    </video>"
      ],
      "text/plain": [
       "<IPython.core.display.Video object>"
      ]
     },
     "execution_count": 11,
     "metadata": {},
     "output_type": "execute_result"
    }
   ],
   "source": [
    "Video(output_path)"
   ]
  },
  {
   "cell_type": "code",
   "execution_count": 16,
   "id": "d67dbd19",
   "metadata": {},
   "outputs": [
    {
     "name": "stdout",
     "output_type": "stream",
     "text": [
      "app.py\t\t\t\t     img\r\n",
      "clip_embedder.py\t\t     indexer\r\n",
      "cut_frames_and_calculate_embs.ipynb  indexer.ipynb\r\n",
      "data\t\t\t\t     model.py\r\n",
      "Dockerfile\t\t\t     movie_dsl.py\r\n",
      "download_data.ipynb\t\t     nmslib_indexer.py\r\n",
      "downloaded\t\t\t     output\r\n",
      "frames\t\t\t\t     __pycache__\r\n",
      "frames_prev\t\t\t     README.md\r\n",
      "frame_vectors_prev\t\t     requirements.txt\r\n",
      "generate_by_recommends.ipynb\t     videos\r\n",
      "generate_video_cut_queries.py\t     wget-log\r\n"
     ]
    }
   ],
   "source": [
    "! ls"
   ]
  },
  {
   "cell_type": "code",
   "execution_count": null,
   "id": "71df921d",
   "metadata": {},
   "outputs": [],
   "source": []
  }
 ],
 "metadata": {
  "kernelspec": {
   "display_name": "Python 3 (ipykernel)",
   "language": "python",
   "name": "python3"
  },
  "language_info": {
   "codemirror_mode": {
    "name": "ipython",
    "version": 3
   },
   "file_extension": ".py",
   "mimetype": "text/x-python",
   "name": "python",
   "nbconvert_exporter": "python",
   "pygments_lexer": "ipython3",
   "version": "3.10.6"
  }
 },
 "nbformat": 4,
 "nbformat_minor": 5
}
