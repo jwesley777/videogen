{
 "cells": [
  {
   "cell_type": "code",
   "execution_count": 1,
   "id": "2ed5dc72",
   "metadata": {},
   "outputs": [],
   "source": [
    "# ! pip install nmslib pandas torch requests streamlit\n",
    "# ! conda install --yes -c pytorch pytorch=1.7.1 torchvision cudatoolkit=11.0\n",
    "# ! pip install ftfy regex tqdm\n",
    "# ! pip install git+https://github.com/openai/CLIP.git\n",
    "# pip install googletrans==3.1.0a0"
   ]
  },
  {
   "cell_type": "code",
   "execution_count": 1,
   "id": "02bf17e7-04c4-4e99-8377-060dd0da4f3c",
   "metadata": {},
   "outputs": [
    {
     "name": "stdout",
     "output_type": "stream",
     "text": [
      "loaded indexer\n"
     ]
    }
   ],
   "source": [
    "import os\n",
    "import numpy as np\n",
    "from nmslib_indexer import HnmsIndexer\n",
    "import os\n",
    "import glob\n",
    "import numpy as np\n",
    "from IPython.display import Image\n",
    "import requests\n",
    "imgs = sorted(glob.glob('frames/*'))\n",
    "\n",
    "def show_img(i, imgs):\n",
    "    return Image(filename=imgs[i])\n",
    "\n",
    "files = sorted(glob.glob('frame_vectors/*'))\n",
    "embs = np.vstack([np.load(x) for x in files])\n",
    "\n",
    "indexer_path = 'indexer'\n",
    "indexer = HnmsIndexer()\n",
    "\n",
    "if not os.path.exists(indexer_path):\n",
    "    indexer.add(embs)\n",
    "    indexer.save(indexer_path)\n",
    "    print('saved indexer')\n",
    "else:\n",
    "    indexer.load(indexer_path)\n",
    "    print('loaded indexer')\n",
    "\n",
    "# def search_video(query):\n",
    "#     return 'videos/hb_nd_cv2.mp4'\n",
    "\n",
    "import re\n",
    "\n",
    "def get_id(img_path):\n",
    "    return re.findall('.*\\/(.*)_\\d+.jpg', img_path)[0]\n",
    "\n",
    "img_ids = dict()\n",
    "\n",
    "for img_path in imgs:\n",
    "    img_id = get_id(img_path)\n",
    "    img_ids[img_id] = img_path\n",
    "sorted(img_ids)\n",
    "\n",
    "import os\n",
    "import clip\n",
    "import torch\n",
    "\n",
    "device = \"cuda\" if torch.cuda.is_available() else \"cpu\"\n",
    "model, preprocess = clip.load('ViT-B/32', device)\n",
    "\n",
    "def encode_text(predictor, text: str) -> np.ndarray:\n",
    "    with torch.no_grad():\n",
    "        text_latent = predictor.encode_text(clip.tokenize(text).to('cpu'))\n",
    "        text_latent /= text_latent.norm(dim=-1, keepdim=True)\n",
    "    return text_latent.cpu().detach().numpy()\n",
    "\n",
    "text_ebm = [encode_text(model, 'pooping cat')]\n",
    "scores, ids = indexer.find(text_ebm, 5)\n",
    "print('scores:', scores)\n",
    "print('ids:', ids)\n",
    "[display(show_img(i, imgs)) for i in ids]\n",
    "# show_img(183, imgs)\n",
    "\n",
    "from generate_video_cut_queries import similar_frames_to_query\n",
    "\n",
    "video_ids = [re.findall('.*/(.*)', imgs[i])[0] for i in ids]\n",
    "gen_query = similar_frames_to_query(video_ids)\n",
    "print(gen_query)\n",
    "\n",
    "\n",
    "import os\n",
    "from IPython.display import Video\n",
    "from movie_dsl import MovDSL\n",
    "\n",
    "# input_dir = 'downloaded'\n",
    "input_dir = 'videos'\n",
    "files = os.listdir(input_dir)\n",
    "params = {file.replace(\".mp4\", \"\"): f'{input_dir}/{file}' for file in files}\n",
    "\n",
    "dsl = MovDSL(params) \\\n",
    "    .query(gen_query) \\\n",
    "    .save(output_path)\n",
    "\n",
    "Video(output_path)"
   ]
  },
  {
   "cell_type": "code",
   "execution_count": null,
   "id": "9de04199-65fa-4c6e-8ab8-46933ff2b313",
   "metadata": {},
   "outputs": [],
   "source": [
    "# ! wget http://moments.csail.mit.edu/splits/Moments_in_Time_Raw_v2.zip -OMoments_in_Time_Raw_v2"
   ]
  },
  {
   "cell_type": "code",
   "execution_count": 5,
   "id": "17bd0774-2569-4d6f-9a50-d774b6bfb515",
   "metadata": {},
   "outputs": [
    {
     "data": {
      "text/html": [
       "<div>\n",
       "<style scoped>\n",
       "    .dataframe tbody tr th:only-of-type {\n",
       "        vertical-align: middle;\n",
       "    }\n",
       "\n",
       "    .dataframe tbody tr th {\n",
       "        vertical-align: top;\n",
       "    }\n",
       "\n",
       "    .dataframe thead th {\n",
       "        text-align: right;\n",
       "    }\n",
       "</style>\n",
       "<table border=\"1\" class=\"dataframe\">\n",
       "  <thead>\n",
       "    <tr style=\"text-align: right;\">\n",
       "      <th></th>\n",
       "      <th>videoid</th>\n",
       "      <th>contentUrl</th>\n",
       "      <th>duration</th>\n",
       "      <th>page_dir</th>\n",
       "      <th>name</th>\n",
       "    </tr>\n",
       "  </thead>\n",
       "  <tbody>\n",
       "    <tr>\n",
       "      <th>0</th>\n",
       "      <td>1023443014</td>\n",
       "      <td>https://ak.picdn.net/shutterstock/videos/10234...</td>\n",
       "      <td>PT00H00M30S</td>\n",
       "      <td>095201_095250</td>\n",
       "      <td>Disco light leaks disco ball light reflections...</td>\n",
       "    </tr>\n",
       "    <tr>\n",
       "      <th>1</th>\n",
       "      <td>1026421895</td>\n",
       "      <td>https://ak.picdn.net/shutterstock/videos/10264...</td>\n",
       "      <td>PT00H00M05S</td>\n",
       "      <td>199401_199450</td>\n",
       "      <td>Valle de la luna / san pedro de atacama / chil...</td>\n",
       "    </tr>\n",
       "    <tr>\n",
       "      <th>2</th>\n",
       "      <td>4350377</td>\n",
       "      <td>https://ak.picdn.net/shutterstock/videos/43503...</td>\n",
       "      <td>PT00H00M09S</td>\n",
       "      <td>137551_137600</td>\n",
       "      <td>Cloudy moscow kremlin time lapse</td>\n",
       "    </tr>\n",
       "    <tr>\n",
       "      <th>3</th>\n",
       "      <td>1054633538</td>\n",
       "      <td>https://ak.picdn.net/shutterstock/videos/10546...</td>\n",
       "      <td>PT00H00M19S</td>\n",
       "      <td>083701_083750</td>\n",
       "      <td>Sharp knife to cut delicious smoked fish</td>\n",
       "    </tr>\n",
       "    <tr>\n",
       "      <th>4</th>\n",
       "      <td>15702931</td>\n",
       "      <td>https://ak.picdn.net/shutterstock/videos/15702...</td>\n",
       "      <td>PT00H00M05S</td>\n",
       "      <td>138451_138500</td>\n",
       "      <td>The girl received flowers as a gift. a gift fo...</td>\n",
       "    </tr>\n",
       "  </tbody>\n",
       "</table>\n",
       "</div>"
      ],
      "text/plain": [
       "      videoid                                         contentUrl     duration  \\\n",
       "0  1023443014  https://ak.picdn.net/shutterstock/videos/10234...  PT00H00M30S   \n",
       "1  1026421895  https://ak.picdn.net/shutterstock/videos/10264...  PT00H00M05S   \n",
       "2     4350377  https://ak.picdn.net/shutterstock/videos/43503...  PT00H00M09S   \n",
       "3  1054633538  https://ak.picdn.net/shutterstock/videos/10546...  PT00H00M19S   \n",
       "4    15702931  https://ak.picdn.net/shutterstock/videos/15702...  PT00H00M05S   \n",
       "\n",
       "        page_dir                                               name  \n",
       "0  095201_095250  Disco light leaks disco ball light reflections...  \n",
       "1  199401_199450  Valle de la luna / san pedro de atacama / chil...  \n",
       "2  137551_137600                   Cloudy moscow kremlin time lapse  \n",
       "3  083701_083750           Sharp knife to cut delicious smoked fish  \n",
       "4  138451_138500  The girl received flowers as a gift. a gift fo...  "
      ]
     },
     "execution_count": 5,
     "metadata": {},
     "output_type": "execute_result"
    }
   ],
   "source": [
    "import pandas as pd\n",
    "df = pd.read_csv('data/results_10M_val.csv')\n",
    "df.head()"
   ]
  },
  {
   "cell_type": "code",
   "execution_count": 6,
   "id": "903ba7e3-a0f2-43b0-b67c-2dbbe6c4ce4b",
   "metadata": {},
   "outputs": [
    {
     "data": {
      "text/plain": [
       "'https://ak.picdn.net/shutterstock/videos/1026421895/preview/stock-footage-valle-de-la-luna-san-pedro-de-atacama-chile-pull-focus-desert-and-salt.mp4'"
      ]
     },
     "execution_count": 6,
     "metadata": {},
     "output_type": "execute_result"
    }
   ],
   "source": [
    "df['contentUrl'].values[1]"
   ]
  },
  {
   "cell_type": "code",
   "execution_count": 7,
   "id": "0b1782b6-a61f-4e54-9f85-59802a2c37e2",
   "metadata": {
    "scrolled": false
   },
   "outputs": [
    {
     "name": "stdout",
     "output_type": "stream",
     "text": [
      "downloading file: downloaded/stock-footage-disco-light-leaks-disco-ball-light-reflections-shaped-rectangular-and-line-with-motion-blur-effect.mp4\n",
      "downloaded downloaded/stock-footage-disco-light-leaks-disco-ball-light-reflections-shaped-rectangular-and-line-with-motion-blur-effect.mp4\n"
     ]
    },
    {
     "data": {
      "text/html": [
       "<video src=\"downloaded/stock-footage-disco-light-leaks-disco-ball-light-reflections-shaped-rectangular-and-line-with-motion-blur-effect.mp4\" controls  >\n",
       "      Your browser does not support the <code>video</code> element.\n",
       "    </video>"
      ],
      "text/plain": [
       "<IPython.core.display.Video object>"
      ]
     },
     "execution_count": 7,
     "metadata": {},
     "output_type": "execute_result"
    }
   ],
   "source": [
    "from IPython.display import Video\n",
    "\n",
    "def download_video_series(link, odir):\n",
    "    os.makedirs(odir, exist_ok=True)\n",
    "    file_name =  odir + '/' + link.split('/')[-1] \n",
    "    print( \"downloading file:\", file_name) \n",
    "    r = requests.get(link, stream = True) \n",
    "    with open(file_name, 'wb') as f: \n",
    "        for chunk in r.iter_content(chunk_size = 1024*1024): \n",
    "            if chunk: \n",
    "                f.write(chunk) \n",
    "    print('downloaded', file_name)\n",
    "    return file_name\n",
    "    \n",
    "file_name = download_video_series(df['contentUrl'].values[0], 'downloaded')\n",
    "Video(file_name)"
   ]
  },
  {
   "cell_type": "code",
   "execution_count": 15,
   "id": "3d3e9576-7f2e-48fd-8746-677c22309b06",
   "metadata": {},
   "outputs": [
    {
     "name": "stdout",
     "output_type": "stream",
     "text": [
      "ехала Маша на машине сar Masha was driving a car\n"
     ]
    }
   ],
   "source": [
    "from googletrans import Translator\n",
    "\n",
    "text = 'ехала Маша на машине сar'\n",
    "translator = Translator()\n",
    "text_translated = translator.translate(text, src = 'ru', dest='en').text\n",
    "print(text, text_translated)"
   ]
  },
  {
   "cell_type": "code",
   "execution_count": 19,
   "id": "7c3393cd",
   "metadata": {},
   "outputs": [
    {
     "name": "stdout",
     "output_type": "stream",
     "text": [
      "Collecting pytube\n",
      "  Downloading pytube-12.1.0-py3-none-any.whl (56 kB)\n",
      "\u001b[2K     \u001b[90m━━━━━━━━━━━━━━━━━━━━━━━━━━━━━━━━━━━━━━━━\u001b[0m \u001b[32m56.5/56.5 kB\u001b[0m \u001b[31m1.7 MB/s\u001b[0m eta \u001b[36m0:00:00\u001b[0m\n",
      "\u001b[?25hInstalling collected packages: pytube\n",
      "Successfully installed pytube-12.1.0\n"
     ]
    }
   ],
   "source": [
    "! pip install pytube"
   ]
  },
  {
   "cell_type": "code",
   "execution_count": 32,
   "id": "7000ea8d",
   "metadata": {},
   "outputs": [
    {
     "name": "stdout",
     "output_type": "stream",
     "text": [
      "CPU times: user 500 ms, sys: 86.1 ms, total: 586 ms\n",
      "Wall time: 11.5 s\n"
     ]
    }
   ],
   "source": [
    "%%time\n",
    "\n",
    "from pytube import YouTube\n",
    "# yt = YouTube(\"https://www.youtube.com/watch?v=n06H7OcPd-g\")\n",
    "# yt = yt.get('mp4', '720p')\n",
    "# yt.download('downloaded')\n",
    "\n",
    "def downloadYouTube(videourl, path):\n",
    "    yt = YouTube(videourl)\n",
    "    yt = yt.streams.filter(progressive=True, file_extension='mp4').order_by('resolution').desc().first()\n",
    "    yt.download(path)\n",
    "\n",
    "# downloadYouTube('https://www.youtube.com/watch?v=zNyYDHCg06c', './videos/FindingNemo1')\n",
    "e_Z6upbeYuc\n",
    "downloadYouTube('https://youtu.be/yVV_t_Tewvs', 'downloaded/1.mp4')"
   ]
  },
  {
   "cell_type": "code",
   "execution_count": null,
   "id": "3131e9dc",
   "metadata": {},
   "outputs": [],
   "source": []
  },
  {
   "cell_type": "code",
   "execution_count": 30,
   "id": "def0ec76",
   "metadata": {},
   "outputs": [
    {
     "name": "stdout",
     "output_type": "stream",
     "text": [
      "4.0K\tdownloaded/.ipynb_checkpoints\r\n",
      "51M\tdownloaded/1.mp4\r\n",
      "54M\tdownloaded\r\n"
     ]
    }
   ],
   "source": [
    "! du -h downloaded"
   ]
  },
  {
   "cell_type": "code",
   "execution_count": 31,
   "id": "efbb30d3",
   "metadata": {},
   "outputs": [
    {
     "data": {
      "text/html": [
       "<video src=\"downloaded/1.mp4\" controls  >\n",
       "      Your browser does not support the <code>video</code> element.\n",
       "    </video>"
      ],
      "text/plain": [
       "<IPython.core.display.Video object>"
      ]
     },
     "execution_count": 31,
     "metadata": {},
     "output_type": "execute_result"
    }
   ],
   "source": [
    "Video('downloaded/1.mp4')"
   ]
  },
  {
   "cell_type": "code",
   "execution_count": 17,
   "id": "57645cf3",
   "metadata": {},
   "outputs": [
    {
     "name": "stdout",
     "output_type": "stream",
     "text": [
      "stock-footage-disco-light-leaks-disco-ball-light-reflections-shaped-rectangular-and-line-with-motion-blur-effect.mp4\r\n"
     ]
    }
   ],
   "source": [
    "! ls downloaded"
   ]
  },
  {
   "cell_type": "code",
   "execution_count": 38,
   "id": "5088767a",
   "metadata": {},
   "outputs": [
    {
     "name": "stdout",
     "output_type": "stream",
     "text": [
      "ls: cannot access 'frames': No such file or directory\r\n"
     ]
    }
   ],
   "source": [
    "! ls frames"
   ]
  },
  {
   "cell_type": "code",
   "execution_count": 35,
   "id": "1eb63cb5",
   "metadata": {},
   "outputs": [
    {
     "data": {
      "text/plain": [
       "'kotiki[61:68].v * kotiki[61:68].a + kotiki[245:251].v * kotiki[245:251].a + kotiki[13:14].v * kotiki[13:14].a + kotiki[187:197].v * kotiki[187:197].a'"
      ]
     },
     "execution_count": 35,
     "metadata": {},
     "output_type": "execute_result"
    }
   ],
   "source": [
    "def add_audio(gen_query): \n",
    "    a = [x.strip() for x in gen_query.split('+')]\n",
    "    return ' + '.join([f'{e} * {e.replace(\".v\", \".a\")}' for e in a])\n",
    "\n",
    "add_audio(gen_query)"
   ]
  },
  {
   "cell_type": "code",
   "execution_count": null,
   "id": "1ae4d5eb",
   "metadata": {},
   "outputs": [],
   "source": []
  }
 ],
 "metadata": {
  "kernelspec": {
   "display_name": "Python 3 (ipykernel)",
   "language": "python",
   "name": "python3"
  },
  "language_info": {
   "codemirror_mode": {
    "name": "ipython",
    "version": 3
   },
   "file_extension": ".py",
   "mimetype": "text/x-python",
   "name": "python",
   "nbconvert_exporter": "python",
   "pygments_lexer": "ipython3",
   "version": "3.10.6"
  }
 },
 "nbformat": 4,
 "nbformat_minor": 5
}
