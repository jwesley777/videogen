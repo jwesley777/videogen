{
 "cells": [
  {
   "cell_type": "code",
   "execution_count": 4,
   "id": "993a71c1",
   "metadata": {},
   "outputs": [],
   "source": [
    "import cv2\n",
    "import os\n",
    "import numpy as np\n",
    "from PIL import Image\n",
    "\n",
    "for fname in os.listdir('videos'):\n",
    "    if fname.endswith('.mp4'):\n",
    "        fname_w_o_extension = fname[:-4]\n",
    "        video = cv2.VideoCapture(f\"videos/{fname}\")\n",
    "        fps = video.get(cv2.CAP_PROP_FPS)\n",
    "        time_length = video.get(cv2.CAP_PROP_FRAME_COUNT)\n",
    "        frame_seq = 0\n",
    "        count_sec = 0\n",
    "        while True:         \n",
    "            frame_no = (frame_seq /(time_length*fps))\n",
    "            video.set(cv2.CAP_PROP_POS_FRAMES, fps*count_sec)\n",
    "            ret, frame = video.read()\n",
    "            if ret:\n",
    "                cv2.imwrite(f\"frames/{fname_w_o_extension}_{count_sec}.jpg\", frame)\n",
    "                frame_seq += fps\n",
    "                count_sec += 1\n",
    "            else:\n",
    "                break"
   ]
  },
  {
   "cell_type": "code",
   "execution_count": null,
   "id": "0644bc86",
   "metadata": {},
   "outputs": [],
   "source": [
    "for fname in os.listdir('frames'):\n",
    "    if fname.endswith('.jpg'):\n",
    "        fname_w_o_extension = fname[:-4]\n",
    "        image = preprocess(Image.open(f\"frames/{fname}\")).unsqueeze(0).to(device)\n",
    "        image_features = model.encode_image(image)\n",
    "        np.save(f\"frame_vectors/{fname_w_o_extension}.npy\", image_features.detach().numpy(), allow_pickle=False)"
   ]
  }
 ],
 "metadata": {
  "kernelspec": {
   "display_name": "Python 3 (ipykernel)",
   "language": "python",
   "name": "python3"
  },
  "language_info": {
   "codemirror_mode": {
    "name": "ipython",
    "version": 3
   },
   "file_extension": ".py",
   "mimetype": "text/x-python",
   "name": "python",
   "nbconvert_exporter": "python",
   "pygments_lexer": "ipython3",
   "version": "3.10.6"
  }
 },
 "nbformat": 4,
 "nbformat_minor": 5
}
