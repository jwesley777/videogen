{
 "cells": [
  {
   "cell_type": "code",
   "execution_count": 7,
   "id": "993a71c1",
   "metadata": {
    "pycharm": {
     "name": "#%%\n"
    }
   },
   "outputs": [
    {
     "name": "stderr",
     "output_type": "stream",
     "text": [
      "<timed exec>:10: TqdmDeprecationWarning: This function will be removed in tqdm==5.0.0\n",
      "Please use `tqdm.notebook.tqdm` instead of `tqdm.tqdm_notebook`\n"
     ]
    },
    {
     "data": {
      "application/vnd.jupyter.widget-view+json": {
       "model_id": "3eebcf7e60834878af43b2881e17b55a",
       "version_major": 2,
       "version_minor": 0
      },
      "text/plain": [
       "  0%|          | 0/40 [00:00<?, ?it/s]"
      ]
     },
     "metadata": {},
     "output_type": "display_data"
    },
    {
     "name": "stdout",
     "output_type": "stream",
     "text": [
      "CPU times: user 36min 35s, sys: 46.8 s, total: 37min 22s\n",
      "Wall time: 6min 9s\n"
     ]
    }
   ],
   "source": [
    "%%time\n",
    "import cv2\n",
    "import os\n",
    "import numpy as np\n",
    "from PIL import Image\n",
    "import glob\n",
    "from tqdm import tqdm_notebook as tqdm\n",
    "\n",
    "step_sec = 2\n",
    "\n",
    "for fname in tqdm(glob.glob('downloaded/*.mp4')):\n",
    "    fname_w_o_extension = fname[:-4]\n",
    "    video = cv2.VideoCapture(fname)\n",
    "    fps = video.get(cv2.CAP_PROP_FPS)\n",
    "    time_length = video.get(cv2.CAP_PROP_FRAME_COUNT)\n",
    "    frame_seq = 0\n",
    "    count_sec = 0\n",
    "    while True:         \n",
    "        frame_no = (frame_seq /(time_length*fps))\n",
    "        video.set(cv2.CAP_PROP_POS_FRAMES, fps*count_sec)\n",
    "        ret, frame = video.read()\n",
    "        if ret:\n",
    "            cv2.imwrite(f\"frames/{fname_w_o_extension}_{count_sec}.jpg\", frame)\n",
    "            frame_seq += fps\n",
    "            count_sec += step_sec\n",
    "        else:\n",
    "            break"
   ]
  },
  {
   "cell_type": "code",
   "execution_count": null,
   "id": "0644bc86",
   "metadata": {
    "pycharm": {
     "name": "#%%\n"
    }
   },
   "outputs": [],
   "source": [
    "# save embeddings\n",
    "from clip_embedder import ClipEmbedder\n",
    "\n",
    "embedder = ClipEmbedder()\n",
    "device = 'cpu'\n",
    "\n",
    "for fname in glob.glob('frames/*.jpg'):\n",
    "    fname_w_o_extension = fname[:-4]\n",
    "    image = embedder.preprocess(Image.open(f\"frames/{fname}\")).unsqueeze(0).to(device)\n",
    "    image_features = embedder.encode_image(image)\n",
    "    np.save(f\"frame_vectors/{fname_w_o_extension}.npy\", image_features.detach().numpy(), allow_pickle=False)"
   ]
  }
 ],
 "metadata": {
  "kernelspec": {
   "display_name": "Python 3 (ipykernel)",
   "language": "python",
   "name": "python3"
  },
  "language_info": {
   "codemirror_mode": {
    "name": "ipython",
    "version": 3
   },
   "file_extension": ".py",
   "mimetype": "text/x-python",
   "name": "python",
   "nbconvert_exporter": "python",
   "pygments_lexer": "ipython3",
   "version": "3.10.6"
  }
 },
 "nbformat": 4,
 "nbformat_minor": 5
}