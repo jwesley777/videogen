{
 "cells": [
  {
   "cell_type": "code",
   "execution_count": 28,
   "id": "993a71c1",
   "metadata": {
    "pycharm": {
     "name": "#%%\n"
    }
   },
   "outputs": [
    {
     "name": "stderr",
     "output_type": "stream",
     "text": [
      "<timed exec>:11: TqdmDeprecationWarning: This function will be removed in tqdm==5.0.0\n",
      "Please use `tqdm.notebook.tqdm` instead of `tqdm.tqdm_notebook`\n"
     ]
    },
    {
     "data": {
      "application/vnd.jupyter.widget-view+json": {
       "model_id": "51aaee08d0d54dcaa448604c6241a7b9",
       "version_major": 2,
       "version_minor": 0
      },
      "text/plain": [
       "  0%|          | 0/1 [00:00<?, ?it/s]"
      ]
     },
     "metadata": {},
     "output_type": "display_data"
    },
    {
     "name": "stdout",
     "output_type": "stream",
     "text": [
      "saved\n",
      "saved\n",
      "saved\n",
      "saved\n",
      "saved\n",
      "saved\n",
      "saved\n",
      "saved\n",
      "saved\n",
      "saved\n",
      "saved\n",
      "saved\n",
      "saved\n",
      "saved\n",
      "saved\n",
      "saved\n",
      "saved\n",
      "saved\n",
      "saved\n",
      "saved\n",
      "saved\n",
      "saved\n",
      "saved\n",
      "saved\n",
      "saved\n",
      "saved\n",
      "saved\n",
      "saved\n",
      "saved\n",
      "saved\n",
      "saved\n",
      "saved\n",
      "saved\n",
      "saved\n",
      "saved\n",
      "saved\n",
      "saved\n",
      "saved\n",
      "saved\n",
      "saved\n",
      "saved\n",
      "saved\n",
      "saved\n",
      "saved\n",
      "saved\n",
      "saved\n",
      "saved\n",
      "saved\n",
      "saved\n",
      "saved\n",
      "saved\n",
      "saved\n",
      "saved\n",
      "saved\n",
      "saved\n",
      "saved\n",
      "saved\n",
      "saved\n",
      "saved\n",
      "saved\n",
      "saved\n",
      "saved\n",
      "saved\n",
      "saved\n",
      "saved\n",
      "saved\n",
      "saved\n",
      "saved\n",
      "saved\n",
      "saved\n",
      "saved\n",
      "saved\n",
      "saved\n",
      "saved\n",
      "saved\n",
      "saved\n",
      "saved\n",
      "saved\n",
      "saved\n",
      "saved\n",
      "saved\n",
      "saved\n",
      "saved\n",
      "saved\n",
      "saved\n",
      "saved\n",
      "saved\n",
      "saved\n",
      "saved\n",
      "saved\n",
      "saved\n",
      "saved\n",
      "saved\n",
      "saved\n",
      "saved\n",
      "saved\n",
      "saved\n",
      "saved\n",
      "saved\n",
      "saved\n",
      "saved\n",
      "saved\n",
      "saved\n",
      "saved\n",
      "saved\n",
      "saved\n",
      "saved\n",
      "saved\n",
      "saved\n",
      "saved\n",
      "saved\n",
      "saved\n",
      "saved\n",
      "saved\n",
      "saved\n",
      "saved\n",
      "saved\n",
      "saved\n",
      "saved\n",
      "saved\n",
      "saved\n",
      "saved\n",
      "saved\n",
      "saved\n",
      "saved\n",
      "saved\n",
      "saved\n",
      "saved\n",
      "saved\n",
      "saved\n",
      "saved\n",
      "saved\n",
      "saved\n",
      "saved\n",
      "saved\n",
      "saved\n",
      "saved\n",
      "saved\n",
      "saved\n",
      "saved\n",
      "saved\n",
      "saved\n",
      "saved\n",
      "saved\n",
      "saved\n",
      "saved\n",
      "saved\n",
      "saved\n",
      "saved\n",
      "saved\n",
      "saved\n",
      "saved\n",
      "saved\n",
      "saved\n",
      "saved\n",
      "saved\n",
      "saved\n",
      "saved\n",
      "saved\n",
      "saved\n",
      "saved\n",
      "saved\n",
      "saved\n",
      "saved\n",
      "saved\n",
      "saved\n",
      "saved\n",
      "saved\n",
      "saved\n",
      "saved\n",
      "saved\n",
      "saved\n",
      "saved\n",
      "saved\n",
      "saved\n",
      "saved\n",
      "saved\n",
      "saved\n",
      "saved\n",
      "saved\n",
      "saved\n",
      "saved\n",
      "saved\n",
      "CPU times: user 42 s, sys: 1 s, total: 43 s\n",
      "Wall time: 7.93 s\n"
     ]
    }
   ],
   "source": [
    "%%time\n",
    "import cv2\n",
    "import os\n",
    "import numpy as np\n",
    "from PIL import Image\n",
    "import glob\n",
    "from tqdm import tqdm_notebook as tqdm\n",
    "\n",
    "step_sec = 1\n",
    "os.makedirs('frames', exist_ok=True)\n",
    "\n",
    "for fname in tqdm(glob.glob('downloaded/*.mp4')[:1]):\n",
    "    fname_w_o_extension = fname[:-4]\n",
    "    video = cv2.VideoCapture(fname)\n",
    "    fps = video.get(cv2.CAP_PROP_FPS)\n",
    "    time_length = video.get(cv2.CAP_PROP_FRAME_COUNT)\n",
    "    frame_seq = 0\n",
    "    count_sec = 0\n",
    "    while True:         \n",
    "        frame_no = (frame_seq /(time_length*fps))\n",
    "        video.set(cv2.CAP_PROP_POS_FRAMES, fps*count_sec)\n",
    "        ret, frame = video.read()\n",
    "        if ret:\n",
    "            cv2.imwrite(f\"frames/{fname_w_o_extension}_{count_sec}.jpg\", frame)\n",
    "            print('saved')\n",
    "            frame_seq += fps\n",
    "            count_sec += step_sec\n",
    "        else:\n",
    "            break"
   ]
  },
  {
   "cell_type": "code",
   "execution_count": 36,
   "id": "8374646b",
   "metadata": {},
   "outputs": [],
   "source": [
    "!rm -rf frames/*"
   ]
  },
  {
   "cell_type": "code",
   "execution_count": 9,
   "id": "6bf9d981",
   "metadata": {},
   "outputs": [
    {
     "name": "stderr",
     "output_type": "stream",
     "text": [
      "/tmp/ipykernel_16571/183127850.py:9: TqdmDeprecationWarning: This function will be removed in tqdm==5.0.0\n",
      "Please use `tqdm.notebook.tqdm` instead of `tqdm.tqdm_notebook`\n",
      "  for fname in tqdm(os.listdir('videos')):\n"
     ]
    },
    {
     "data": {
      "application/vnd.jupyter.widget-view+json": {
       "model_id": "087a49b30e9f412d84f712d9fa0dc1d8",
       "version_major": 2,
       "version_minor": 0
      },
      "text/plain": [
       "  0%|          | 0/14 [00:00<?, ?it/s]"
      ]
     },
     "metadata": {},
     "output_type": "display_data"
    },
    {
     "name": "stderr",
     "output_type": "stream",
     "text": [
      "[h264 @ 0x16174280] mmco: unref short failure\n",
      "[h264 @ 0x16174280] mmco: unref short failure\n",
      "[h264 @ 0x16174280] mmco: unref short failure\n",
      "[h264 @ 0x16174280] mmco: unref short failure\n",
      "[h264 @ 0x16174280] mmco: unref short failure\n",
      "[h264 @ 0x16174280] mmco: unref short failure\n",
      "[h264 @ 0x16174280] mmco: unref short failure\n",
      "[h264 @ 0x16174280] mmco: unref short failure\n",
      "[h264 @ 0x16174280] mmco: unref short failure\n",
      "[h264 @ 0x16174280] mmco: unref short failure\n",
      "[h264 @ 0x16174280] mmco: unref short failure\n",
      "[h264 @ 0x16174280] mmco: unref short failure\n",
      "[h264 @ 0x16174280] mmco: unref short failure\n",
      "[h264 @ 0x16174280] mmco: unref short failure\n",
      "[h264 @ 0x16174280] mmco: unref short failure\n",
      "[h264 @ 0x16174280] mmco: unref short failure\n",
      "[h264 @ 0x16174280] mmco: unref short failure\n",
      "[h264 @ 0x16174280] mmco: unref short failure\n",
      "[h264 @ 0x16174280] mmco: unref short failure\n",
      "[h264 @ 0x16174280] mmco: unref short failure\n",
      "[h264 @ 0x16174280] mmco: unref short failure\n",
      "[h264 @ 0x16174280] mmco: unref short failure\n",
      "[h264 @ 0x16174280] mmco: unref short failure\n",
      "[h264 @ 0x16174280] mmco: unref short failure\n",
      "[h264 @ 0x16174280] mmco: unref short failure\n",
      "[h264 @ 0x579d080] mmco: unref short failure\n",
      "[h264 @ 0x579d080] mmco: unref short failure\n",
      "[h264 @ 0x579d080] mmco: unref short failure\n",
      "[h264 @ 0x579d080] mmco: unref short failure\n",
      "[h264 @ 0x579d080] mmco: unref short failure\n",
      "[h264 @ 0x579d080] mmco: unref short failure\n",
      "[h264 @ 0x579d080] mmco: unref short failure\n",
      "[h264 @ 0x579d080] mmco: unref short failure\n",
      "[h264 @ 0x579d080] mmco: unref short failure\n",
      "[h264 @ 0x579d080] mmco: unref short failure\n",
      "[h264 @ 0x579d080] mmco: unref short failure\n",
      "[h264 @ 0x579d080] mmco: unref short failure\n",
      "[h264 @ 0x579d080] mmco: unref short failure\n",
      "[h264 @ 0x579d080] mmco: unref short failure\n",
      "[h264 @ 0x579d080] mmco: unref short failure\n",
      "[h264 @ 0x579d080] mmco: unref short failure\n",
      "[h264 @ 0x579d080] mmco: unref short failure\n",
      "[h264 @ 0x579d080] mmco: unref short failure\n",
      "[h264 @ 0x579d080] mmco: unref short failure\n",
      "[h264 @ 0x579d080] mmco: unref short failure\n",
      "[h264 @ 0x579d080] mmco: unref short failure\n",
      "[h264 @ 0x579d080] mmco: unref short failure\n",
      "[h264 @ 0x579d080] mmco: unref short failure\n",
      "[h264 @ 0x579d080] mmco: unref short failure\n",
      "[h264 @ 0x579d080] mmco: unref short failure\n",
      "[h264 @ 0x579d080] mmco: unref short failure\n",
      "[h264 @ 0x6423e40] mmco: unref short failure\n",
      "[h264 @ 0x6423e40] mmco: unref short failure\n",
      "[h264 @ 0x6423e40] mmco: unref short failure\n",
      "[h264 @ 0x6423e40] mmco: unref short failure\n",
      "[h264 @ 0x6423e40] mmco: unref short failure\n",
      "[h264 @ 0x6423e40] mmco: unref short failure\n",
      "[h264 @ 0x6423e40] mmco: unref short failure\n",
      "[h264 @ 0x6423e40] mmco: unref short failure\n",
      "[h264 @ 0x6451f40] mmco: unref short failure\n",
      "[h264 @ 0x6451f40] mmco: unref short failure\n",
      "[h264 @ 0x6451f40] mmco: unref short failure\n",
      "[h264 @ 0x6451f40] mmco: unref short failure\n",
      "[h264 @ 0x6451f40] mmco: unref short failure\n",
      "[h264 @ 0x6451f40] mmco: unref short failure\n",
      "[h264 @ 0x6451f40] mmco: unref short failure\n",
      "[h264 @ 0x6451f40] mmco: unref short failure\n",
      "[h264 @ 0x6451f40] mmco: unref short failure\n",
      "[h264 @ 0x6451f40] mmco: unref short failure\n",
      "[h264 @ 0x6451f40] mmco: unref short failure\n",
      "[h264 @ 0x6451f40] mmco: unref short failure\n",
      "[h264 @ 0x6451f40] mmco: unref short failure\n",
      "[h264 @ 0x6451f40] mmco: unref short failure\n",
      "[h264 @ 0x6451f40] mmco: unref short failure\n",
      "[h264 @ 0x6451f40] mmco: unref short failure\n",
      "[h264 @ 0x6451f40] mmco: unref short failure\n",
      "[h264 @ 0x6451f40] mmco: unref short failure\n",
      "[h264 @ 0x6352c00] mmco: unref short failure\n",
      "[h264 @ 0x6352c00] mmco: unref short failure\n",
      "[h264 @ 0x6352c00] mmco: unref short failure\n",
      "[h264 @ 0x6352c00] mmco: unref short failure\n",
      "[h264 @ 0x6352c00] mmco: unref short failure\n",
      "[h264 @ 0x6352c00] mmco: unref short failure\n",
      "[h264 @ 0x6352c00] mmco: unref short failure\n",
      "[h264 @ 0x6352c00] mmco: unref short failure\n",
      "[h264 @ 0x6352c00] mmco: unref short failure\n",
      "[h264 @ 0x6352c00] mmco: unref short failure\n",
      "[h264 @ 0x6352c00] mmco: unref short failure\n",
      "[h264 @ 0x6352c00] mmco: unref short failure\n",
      "[h264 @ 0x54d95f80] mmco: unref short failure\n",
      "[h264 @ 0x54d95f80] mmco: unref short failure\n",
      "[h264 @ 0x54d95f80] mmco: unref short failure\n"
     ]
    }
   ],
   "source": [
    "import cv2\n",
    "import os\n",
    "import numpy as np\n",
    "from PIL import Image\n",
    "import glob\n",
    "from tqdm import tqdm_notebook as tqdm\n",
    "os.makedirs('frames', exist_ok=True)\n",
    "\n",
    "for fname in tqdm(os.listdir('videos')):\n",
    "    if fname.endswith('.mp4'):\n",
    "        fname_w_o_extension = fname[:-4]\n",
    "        video = cv2.VideoCapture(f\"videos/{fname}\")\n",
    "        fps = video.get(cv2.CAP_PROP_FPS)\n",
    "        time_length = video.get(cv2.CAP_PROP_FRAME_COUNT)\n",
    "        frame_seq = 0\n",
    "        count_sec = 0\n",
    "        while True:         \n",
    "            frame_no = (frame_seq /(time_length*fps))\n",
    "            video.set(cv2.CAP_PROP_POS_FRAMES, fps*count_sec)\n",
    "            ret, frame = video.read()\n",
    "            if ret:\n",
    "                cv2.imwrite(f\"frames/{fname_w_o_extension}_{count_sec}.jpg\", frame)\n",
    "                frame_seq += fps\n",
    "                count_sec += 1\n",
    "            else:\n",
    "                break"
   ]
  },
  {
   "cell_type": "code",
   "execution_count": null,
   "id": "fb72e081",
   "metadata": {},
   "outputs": [],
   "source": []
  },
  {
   "cell_type": "code",
   "execution_count": 32,
   "id": "4709faf8",
   "metadata": {},
   "outputs": [
    {
     "name": "stdout",
     "output_type": "stream",
     "text": [
      "/home/vkhack/videogen\r\n"
     ]
    }
   ],
   "source": [
    "! pwd"
   ]
  },
  {
   "cell_type": "code",
   "execution_count": 16,
   "id": "f8a25562",
   "metadata": {},
   "outputs": [
    {
     "data": {
      "text/plain": [
       "('downloaded/dNCWe_6HAM8.mp4', 4088.0)"
      ]
     },
     "execution_count": 16,
     "metadata": {},
     "output_type": "execute_result"
    }
   ],
   "source": [
    "fname, time_length"
   ]
  },
  {
   "cell_type": "code",
   "execution_count": 14,
   "id": "3337abae",
   "metadata": {},
   "outputs": [
    {
     "data": {
      "text/plain": [
       "False"
      ]
     },
     "execution_count": 14,
     "metadata": {},
     "output_type": "execute_result"
    }
   ],
   "source": [
    "ret"
   ]
  },
  {
   "cell_type": "code",
   "execution_count": 12,
   "id": "f35759c9",
   "metadata": {},
   "outputs": [
    {
     "name": "stdout",
     "output_type": "stream",
     "text": [
      "app.py\t\t\t\t     img\r\n",
      "clip_embedder.py\t\t     indexer\r\n",
      "cut_frames_and_calculate_embs.ipynb  indexer.ipynb\r\n",
      "data\t\t\t\t     model.py\r\n",
      "Dockerfile\t\t\t     nmslib_indexer.py\r\n",
      "download_data.ipynb\t\t     __pycache__\r\n",
      "downloaded\t\t\t     README.md\r\n",
      "frames_prev\t\t\t     requirements.txt\r\n",
      "frame_vectors_prev\t\t     videos\r\n",
      "generate_video_cut_queries.py\t     wget-log\r\n"
     ]
    }
   ],
   "source": [
    "! ls"
   ]
  },
  {
   "cell_type": "code",
   "execution_count": 10,
   "id": "0979bbbc",
   "metadata": {},
   "outputs": [
    {
     "name": "stdout",
     "output_type": "stream",
     "text": [
      "ls: cannot access 'frames/*': No such file or directory\r\n"
     ]
    }
   ],
   "source": [
    "! ls frames/*"
   ]
  },
  {
   "cell_type": "code",
   "execution_count": 49,
   "id": "69a9f7b4",
   "metadata": {},
   "outputs": [
    {
     "data": {
      "text/plain": [
       "tensor([[[[-1.4565, -1.4565, -1.4419,  ..., -1.5149, -1.5003, -1.4857],\n",
       "          [-1.4565, -1.4565, -1.4419,  ..., -1.5149, -1.5003, -1.5003],\n",
       "          [-1.4565, -1.4565, -1.4419,  ..., -1.5149, -1.5149, -1.5003],\n",
       "          ...,\n",
       "          [-0.5368, -0.8726, -1.3397,  ..., -1.5879, -1.5879, -1.5879],\n",
       "          [-0.2010, -0.2886, -0.5222,  ..., -1.7631, -1.7631, -1.7485],\n",
       "          [-0.0696, -0.1718, -0.2594,  ..., -1.7339, -1.7339, -1.7339]],\n",
       "\n",
       "         [[-1.4820, -1.4820, -1.4820,  ..., -1.5120, -1.4970, -1.4820],\n",
       "          [-1.4820, -1.4820, -1.4820,  ..., -1.4970, -1.4970, -1.4970],\n",
       "          [-1.4820, -1.4820, -1.4820,  ..., -1.5120, -1.5120, -1.4970],\n",
       "          ...,\n",
       "          [-0.8066, -1.1068, -1.4519,  ..., -1.5570, -1.5420, -1.5420],\n",
       "          [-0.6265, -0.6865, -0.8066,  ..., -1.7371, -1.7371, -1.7221],\n",
       "          [-0.5965, -0.6715, -0.7166,  ..., -1.7071, -1.7071, -1.7071]],\n",
       "\n",
       "         [[-0.4279, -0.4279, -0.4564,  ..., -1.1105, -1.0821, -1.0678],\n",
       "          [-0.4279, -0.4279, -0.4564,  ..., -1.0963, -1.0821, -1.0821],\n",
       "          [-0.4279, -0.4279, -0.4564,  ..., -1.1105, -1.0963, -1.0821],\n",
       "          ...,\n",
       "          [-0.6270, -0.8830, -1.2100,  ..., -1.1247, -1.1389, -1.1532],\n",
       "          [-0.4990, -0.5417, -0.6555,  ..., -1.3665, -1.3665, -1.3807],\n",
       "          [-0.5417, -0.5986, -0.6270,  ..., -1.3522, -1.3522, -1.3665]]]])"
      ]
     },
     "execution_count": 49,
     "metadata": {},
     "output_type": "execute_result"
    }
   ],
   "source": [
    "embedder.preprocess(Image.open(fname)).unsqueeze(0).to(device)"
   ]
  },
  {
   "cell_type": "code",
   "execution_count": 10,
   "id": "0644bc86",
   "metadata": {
    "pycharm": {
     "name": "#%%\n"
    }
   },
   "outputs": [
    {
     "name": "stderr",
     "output_type": "stream",
     "text": [
      "<timed exec>:22: TqdmDeprecationWarning: This function will be removed in tqdm==5.0.0\n",
      "Please use `tqdm.notebook.tqdm` instead of `tqdm.tqdm_notebook`\n"
     ]
    },
    {
     "data": {
      "application/vnd.jupyter.widget-view+json": {
       "model_id": "8077ac66953f42419189b74cc1c8eaa4",
       "version_major": 2,
       "version_minor": 0
      },
      "text/plain": [
       "  0%|          | 0/3831 [00:00<?, ?it/s]"
      ]
     },
     "metadata": {},
     "output_type": "display_data"
    },
    {
     "name": "stdout",
     "output_type": "stream",
     "text": [
      "CPU times: user 13min 11s, sys: 2.6 s, total: 13min 13s\n",
      "Wall time: 3min 30s\n"
     ]
    }
   ],
   "source": [
    "%%time\n",
    "# save embeddings\n",
    "from clip_embedder import ClipEmbedder\n",
    "import os\n",
    "import numpy as np\n",
    "from PIL import Image\n",
    "from tqdm import tqdm_notebook as tqdm\n",
    "os.makedirs('frame_vectors', exist_ok=True)\n",
    "\n",
    "embedder = ClipEmbedder()\n",
    "device = 'cpu'\n",
    "\n",
    "import torch\n",
    "\n",
    "def get_img_emb(model, img_path):\n",
    "    image = model.preprocess(Image.open(img_path)).unsqueeze(0).to(device)\n",
    "    with torch.no_grad():\n",
    "        image_features = model.predictor.encode_image(image)\n",
    "    return image_features\n",
    "\n",
    "\n",
    "\n",
    "for fname in tqdm(os.listdir('frames')):\n",
    "    if fname.endswith('.jpg'):\n",
    "        fname_w_o_extension = fname[:-4]\n",
    "        image_features = get_img_emb(embedder, f\"frames/{fname}\")\n",
    "        np.save(f\"frame_vectors/{fname_w_o_extension}.npy\", image_features.detach().numpy(), allow_pickle=False)"
   ]
  },
  {
   "cell_type": "code",
   "execution_count": 56,
   "id": "221a9077",
   "metadata": {},
   "outputs": [
    {
     "data": {
      "text/plain": [
       "tensor([[ 6.8788e-01,  1.3601e-01,  6.2323e-01, -2.4127e-03, -4.3132e-01,\n",
       "         -1.5285e-01, -3.6626e-01,  1.8401e-01,  8.8913e-02,  2.6763e-01,\n",
       "         -7.2882e-03, -4.3849e-01, -5.6040e-02,  3.8151e-01,  4.4609e-01,\n",
       "         -7.3359e-02, -3.2895e-01,  2.0347e-01,  1.6974e-02,  4.5656e-02,\n",
       "          1.1916e+00,  5.1098e-02,  7.2986e-02, -5.3157e-01, -1.1590e-01,\n",
       "         -2.8904e-01,  1.8439e-02, -1.6722e-01,  1.3949e-01, -3.2415e-01,\n",
       "         -2.8139e-01, -5.3554e-02, -5.8771e-02, -1.3012e-02, -4.1856e-01,\n",
       "         -1.2045e-01, -1.4412e-01, -1.9226e-01, -1.2537e-02, -5.1212e-01,\n",
       "         -4.5816e-01, -1.9985e-02,  1.6207e-02, -5.0457e-01, -5.7138e-02,\n",
       "          3.6143e+00,  7.1358e-02, -3.0541e-02,  1.0498e-01,  4.9296e-01,\n",
       "         -5.1986e-02, -5.8037e-02, -8.4350e-04, -3.5290e-01, -5.9726e-02,\n",
       "         -5.0250e-02, -2.8818e-01, -2.3105e-01,  3.0805e-01,  4.0284e-02,\n",
       "          1.0384e+00, -3.6823e-01,  2.0477e-01,  9.4019e-02, -1.5896e-01,\n",
       "         -1.2109e-02, -5.7245e-01,  5.6403e-01,  1.5572e-01, -1.5589e-01,\n",
       "         -1.6704e-02,  3.8138e-01,  4.9612e-01, -1.1062e-01, -2.9784e-01,\n",
       "         -2.2105e-01, -7.6214e-02, -8.3606e-02, -4.9760e-03,  3.3503e-02,\n",
       "         -7.0594e-01, -4.5052e-01,  1.8444e-01, -2.9955e-01,  1.8521e-01,\n",
       "         -1.7405e-01,  5.6864e-01,  1.5324e-02,  5.9573e-01, -1.5515e-01,\n",
       "          2.4696e-01,  3.4095e-01, -4.8348e+00,  1.6455e-01, -2.5933e-01,\n",
       "          8.6316e-01, -1.1328e-01,  1.2211e-01, -3.6625e-02,  8.7833e-02,\n",
       "         -6.2348e-02,  2.4229e-01,  2.0493e-01,  2.2607e-02, -1.3959e+00,\n",
       "         -4.4517e-01, -7.6119e-01, -3.1427e-01,  2.8825e-01, -2.5455e-02,\n",
       "         -1.4292e-02, -8.1937e-01,  1.3774e-01, -4.0932e-01,  4.3777e-01,\n",
       "          3.5834e-01,  1.3646e-01, -1.3203e-01, -4.5121e-02,  3.2752e-01,\n",
       "          4.3115e-01,  3.5922e-01,  3.0543e-01, -1.2934e-01, -6.6157e-02,\n",
       "         -3.6738e-01,  3.6227e-01, -1.5527e-02, -1.4987e-01, -9.2297e-02,\n",
       "          3.1479e-01, -4.6837e-01, -1.4897e-01,  8.6605e-01,  1.4315e-01,\n",
       "          1.8259e-01, -2.8945e-01, -5.5255e-01, -3.5302e-01, -1.2339e-01,\n",
       "         -1.2824e-01, -9.7712e-02,  4.6789e-01, -4.0507e-01, -6.8992e-01,\n",
       "         -3.8646e-02,  9.3735e-02, -3.0795e-01,  1.1715e-01, -7.3820e-02,\n",
       "          1.3805e-01, -3.3611e-01, -1.1426e-01,  9.3312e-02,  6.3311e-02,\n",
       "         -2.4601e-01,  1.0286e-01, -5.6491e-01, -2.7125e-02,  5.4221e-02,\n",
       "         -1.9107e-01,  2.9144e-02, -2.6632e-02, -2.5226e-01,  5.6469e-01,\n",
       "          1.1108e-01,  1.4026e+00,  3.6877e-01,  1.0721e-01, -2.6694e-02,\n",
       "          1.0920e-01,  3.2025e-01,  4.3201e-01,  1.3366e-01, -2.6643e-01,\n",
       "          8.3834e-01,  4.9768e-01, -3.9311e-01, -4.4476e-01, -2.6719e-01,\n",
       "          1.0700e-01,  2.1070e-01, -7.2005e-02, -2.1147e-01,  1.9831e-01,\n",
       "          3.0211e-01, -4.3242e-01, -1.4050e-01, -4.6433e-01,  1.8489e-02,\n",
       "          1.6701e-02, -1.1089e-01,  2.4558e-01, -4.5154e-04,  1.9074e-01,\n",
       "          1.8628e-01, -2.2834e-01,  1.1233e-01,  4.9215e-01,  5.5197e-01,\n",
       "         -1.5058e-02,  8.4587e-02,  1.8661e-01,  1.9727e-01, -3.8688e-01,\n",
       "          3.3094e-01, -5.7397e-01, -2.4825e-01, -2.7399e-01, -1.0980e-01,\n",
       "         -5.7712e-01, -4.4629e-02, -1.5068e-01,  7.8046e-02, -3.2401e-02,\n",
       "          3.4511e-01,  2.3477e-01,  5.4119e-01,  3.7293e-01, -3.7772e-01,\n",
       "          2.6654e-01,  2.7204e-01, -2.9917e-01,  4.0325e-02,  8.4902e-04,\n",
       "          3.2975e-01,  2.6479e-01, -1.1127e-01,  5.6164e-01, -2.5771e-02,\n",
       "         -2.9507e-01, -1.2639e-01,  3.7778e-01, -1.3673e+00, -6.4150e-02,\n",
       "          8.5349e-01,  4.6628e-02,  1.1934e-01,  1.9030e-01, -6.2772e-01,\n",
       "         -2.1284e-01,  3.3564e-01,  7.0008e-02, -2.1779e-03,  4.5259e-01,\n",
       "         -7.7497e-02, -4.1184e-02,  1.9000e-01, -6.8014e-01, -2.3026e-01,\n",
       "          2.2269e-02, -1.2043e-01, -2.6754e-01, -3.5282e-02, -2.0349e-01,\n",
       "          5.0690e-02, -2.8423e-01, -1.6849e-01, -1.9790e+00,  3.1635e-01,\n",
       "         -5.0591e-01,  1.7153e-01,  5.9829e-01, -5.0679e-01,  1.4603e-01,\n",
       "         -2.5584e-01,  3.2556e-01,  3.6697e-01,  4.7846e-02, -3.7051e-01,\n",
       "          9.2825e-02,  3.0647e-01,  3.0469e-01, -6.6606e-02, -2.0580e-01,\n",
       "         -3.6718e-03, -2.4561e-01, -4.6657e-01, -7.7473e-02,  1.7659e-01,\n",
       "         -2.6872e-01,  2.4728e-01,  6.3044e-01, -7.1997e-02, -3.3720e-01,\n",
       "          2.7573e-01,  3.6401e-01, -4.4045e-01, -2.7991e-01, -2.2166e-01,\n",
       "          1.1050e-01, -7.4912e-02, -7.5503e-02,  8.4233e-02, -8.5025e-02,\n",
       "          2.5435e-01, -2.9217e-03,  3.4091e-01,  2.9946e-01,  1.8436e-02,\n",
       "          1.0144e-01,  4.1889e-01, -1.4759e-01,  1.0540e-01, -1.1870e-01,\n",
       "          1.6412e-02, -5.3167e-01, -3.8111e-02,  5.9434e-02,  3.3797e-01,\n",
       "          2.1595e-02,  6.6528e-01,  8.6268e-01, -3.0228e-01, -9.6990e-02,\n",
       "         -2.6174e-01,  1.4107e-01,  1.8981e-02,  2.6455e-01,  3.9158e-01,\n",
       "          6.0339e-01,  3.1069e-01, -7.2794e-02, -2.9405e-01,  1.9656e-01,\n",
       "         -8.0502e-03,  2.5609e-01, -4.1149e-01,  3.4334e-01, -9.7875e-01,\n",
       "         -4.8051e-01,  7.0218e-02, -2.4763e-01, -1.9740e-01,  2.0242e-02,\n",
       "         -3.9770e-02, -3.1060e-01,  5.7531e-02, -2.9703e-01,  6.7479e-01,\n",
       "         -3.1509e-01, -3.2586e-01,  4.9041e-02,  7.2870e-02,  2.5411e-02,\n",
       "          2.4807e-02,  9.6826e-03,  3.2571e-01,  7.7143e-03, -7.5546e-02,\n",
       "          5.0571e-01,  2.0479e-01, -2.2837e-01,  4.4677e-01, -2.3903e-01,\n",
       "         -1.6821e-02, -1.9048e-01,  2.5858e-01, -5.1235e-02, -3.5404e-01,\n",
       "         -1.5554e-01, -3.8945e-01, -1.8251e-02,  2.2652e-01,  8.2420e-01,\n",
       "          1.1501e-01, -3.0571e-01, -8.8300e-01,  1.0315e-01, -4.3665e-01,\n",
       "          1.7411e-02,  5.0116e-02, -9.5884e-02, -4.0955e-01, -1.4805e-01,\n",
       "         -3.6397e-02,  8.7082e-01,  1.4677e-01,  3.7804e-01,  1.7998e-01,\n",
       "          4.0795e-01, -1.0922e+00, -5.6461e-01, -8.0906e-02, -2.1065e-01,\n",
       "         -4.5181e-01,  5.1533e-01, -5.0404e-02, -2.0747e-01, -2.3147e-01,\n",
       "         -2.2535e-01, -6.2407e-02, -3.8621e-01, -7.5267e-02, -3.7873e-01,\n",
       "          5.7344e-02,  1.5733e-01,  3.4694e-02, -1.7015e-01,  3.6065e-01,\n",
       "          5.7109e-01, -1.1772e-01,  1.1509e-01, -2.7254e-01, -4.9443e-01,\n",
       "          4.0314e-02,  3.5103e-02,  2.8072e-01,  3.5423e-01, -2.9418e-01,\n",
       "         -6.0784e-01,  5.8286e-01,  2.0155e-01,  6.2508e-01, -1.6414e-01,\n",
       "         -3.9896e-01, -3.5256e-01,  1.7586e-01, -1.8876e-01,  2.2454e-02,\n",
       "         -9.4863e-01, -2.0698e-01, -6.6731e-03, -1.4281e+00,  3.6723e-02,\n",
       "         -2.2664e-01, -1.7406e-01, -2.4785e-01, -5.2721e-01,  2.3866e-01,\n",
       "         -1.6286e-01,  9.0642e-02, -2.7447e-01,  1.9009e-01,  1.2794e-01,\n",
       "         -3.3319e-01, -4.8813e-02, -2.3028e-01, -2.2518e-01,  2.8099e-01,\n",
       "         -2.4465e-02,  4.7692e-01, -4.4675e-01,  1.0453e-01,  2.9369e-01,\n",
       "         -1.4129e-01, -1.1523e-01,  6.6883e-02, -1.9995e-01,  1.0464e-01,\n",
       "          1.5676e-01, -1.1393e-01, -1.1662e-01, -3.5751e-01, -2.8598e-01,\n",
       "          1.5415e-01,  4.6398e-01, -1.3873e-01, -5.7431e-01, -7.8540e-02,\n",
       "         -2.0885e-01, -2.7373e-01, -2.6523e-01,  3.5767e-02,  4.2382e-01,\n",
       "         -2.1088e-01, -2.3570e-01, -6.7867e-02, -3.4760e-01, -3.9291e-01,\n",
       "          7.6199e-02,  4.6143e-01, -4.4832e-01, -2.6196e-01,  2.7638e-01,\n",
       "         -4.7390e-01, -4.6496e-01, -1.0755e-01, -2.0706e-01,  7.5903e-02,\n",
       "         -1.0223e-01, -6.2629e-01,  2.3692e-01,  1.3137e-01, -1.8542e-01,\n",
       "         -3.9605e-01, -7.7465e-01,  1.6945e-01, -1.0746e-01, -1.2136e-01,\n",
       "          1.8877e-01,  3.2678e-01, -1.0614e-01, -1.7584e-01, -3.8246e-01,\n",
       "          3.8654e-02,  1.9843e-01,  8.0911e-02,  9.0610e-02,  1.1975e-01,\n",
       "          2.5681e-01,  4.9777e-03,  2.3392e-02,  2.6273e-02,  1.3672e-01,\n",
       "          3.8596e-01, -6.4236e-02, -1.8305e-01,  4.5344e-01, -1.4343e-01,\n",
       "          1.3038e-02, -4.9180e-02]])"
      ]
     },
     "execution_count": 56,
     "metadata": {},
     "output_type": "execute_result"
    }
   ],
   "source": []
  },
  {
   "cell_type": "code",
   "execution_count": null,
   "id": "95ddc42c",
   "metadata": {},
   "outputs": [],
   "source": []
  }
 ],
 "metadata": {
  "kernelspec": {
   "display_name": "Python 3 (ipykernel)",
   "language": "python",
   "name": "python3"
  },
  "language_info": {
   "codemirror_mode": {
    "name": "ipython",
    "version": 3
   },
   "file_extension": ".py",
   "mimetype": "text/x-python",
   "name": "python",
   "nbconvert_exporter": "python",
   "pygments_lexer": "ipython3",
   "version": "3.10.6"
  }
 },
 "nbformat": 4,
 "nbformat_minor": 5
}
